{
  "cells": [
    {
      "cell_type": "markdown",
      "metadata": {
        "id": "r6pO4XchdS-F"
      },
      "source": [
        "Tarea 02 ejercicio 01 :  Hacer un programa que imprima los numeros del -100 al 200"
      ]
    },
    {
      "cell_type": "code",
      "execution_count": null,
      "metadata": {
        "id": "-PAvYjEadWdd"
      },
      "outputs": [],
      "source": [
        "# Hacer un programa que imprima los numeros del -100 al 200\n",
        "\n",
        "numero_inicial = -100\n",
        "numero_final = 201\n",
        "lista = range (numero_inicial, numero_final)\n",
        "for i in lista:\n",
        "  print (i)"
      ]
    },
    {
      "cell_type": "markdown",
      "metadata": {
        "id": "xAHw6VorfiJq"
      },
      "source": [
        "Tarea 02 ejercicio 02 :  Hacer un programa que imprima los números del -100 al 200 que sean divisibles entre 6 (con resto 0)"
      ]
    },
    {
      "cell_type": "code",
      "execution_count": null,
      "metadata": {
        "id": "6Wao2sm5fv7M"
      },
      "outputs": [],
      "source": [
        "# Hacer un programa que imprima los números del -100 al 200 que sean divisibles entre 6 (con resto 0)\n",
        "\n",
        "numero_inicial = -100\n",
        "numero_final = 200\n",
        "lista = range (numero_inicial, numero_final)\n",
        "for i in lista:\n",
        "  if i%6 == 0:\n",
        "    print (i)"
      ]
    },
    {
      "cell_type": "markdown",
      "metadata": {
        "id": "Ck-y5VU2ZJtf"
      },
      "source": [
        "Tarea 02 ejercicio 03 :  Realiza el algoritmo para un sumador de dos números. Si el resultado es menor a 200 se mostrará el mensaje \"menor a 200\", si el resultado es mayor a 200, pero menor a 250 mostrará el mensaje \"mayor a 200\", pero si es mayor a 250 mostrará el mensaje \"mayor a 250\"."
      ]
    },
    {
      "cell_type": "code",
      "execution_count": null,
      "metadata": {
        "id": "8RSAuC2daDGE"
      },
      "outputs": [],
      "source": [
        "# suma de numeros y el mensaje\n",
        "\n",
        "print (\"Ingresa numero 1 y 2\")\n",
        "numero_1 = int (input ())\n",
        "numero_2 = int (input ())\n",
        "sum = numero_1 + numero_2\n",
        "x = sum\n",
        "if x < 200:\n",
        "  print (\"La suma de los numeros ingresados es menor a 200\")\n",
        "\n",
        "elif x > 200 and x < 250:\n",
        "  print (\"La suma de los numeros ingresados es mayor a 200\")\n",
        "\n",
        "elif x > 250:\n",
        "  print (\"La suma de los numeros ingresados es mayor a 250\")\n",
        "\n",
        "elif x == 200:\n",
        "  print (\"La suma de los numeros ingresados es igual a 200\")\n",
        "\n",
        "elif x == 250:\n",
        "  print (\"La suma de los numeros ingresados es igual a 250\")"
      ]
    },
    {
      "cell_type": "markdown",
      "metadata": {
        "id": "ZZHSM-OtZj3w"
      },
      "source": [
        "Tarea 02 ejericio 04: Generar un programa que combine variables, tipos de datos y una condicional en Python (hacer una función que evalúe si el usuario es mayor de edad y si le gusta la música urbana, que envíe diferentes textos según la respuesta del usuario)"
      ]
    },
    {
      "cell_type": "code",
      "execution_count": null,
      "metadata": {
        "id": "v7DHkg_ci72y"
      },
      "outputs": [],
      "source": [
        "# perfil a partir de la edad\n",
        "\n",
        "print (\"Ingrese su edad\")\n",
        "edad = int (input ())\n",
        "\n",
        "if edad < 18:\n",
        "  print (\"No eres mayor de edad\")\n",
        "\n",
        "elif edad >= 18 and edad < 28:\n",
        "  print (\"Eres mayor de edad y te gusta la música urbana\")\n",
        "\n",
        "elif edad >= 28 and edad < 35:\n",
        "  print (\"Eres mayor de edad y no te gusta la musica urbana, sino que la musica alternativa\")\n",
        "\n",
        "elif edad >= 35 and edad < 48:\n",
        "  print (\"Eres mayor de edad y no te gusta la musica urbana, sino que el rock de los años 90s\")\n",
        "\n",
        "elif edad >= 48 and edad < 63:\n",
        "  print (\"Eres mayor de edad y no te gusta la musica urbana, sino que el pop de los 80s\")\n",
        "\n",
        "elif edad >= 63:\n",
        "  print (\"Eres mayor de edad y no te gusta la musica urbana, sino que la musica clasica\")"
      ]
    }
  ],
  "metadata": {
    "colab": {
      "provenance": []
    },
    "kernelspec": {
      "display_name": "Python 3",
      "name": "python3"
    },
    "language_info": {
      "name": "python"
    }
  },
  "nbformat": 4,
  "nbformat_minor": 0
}
